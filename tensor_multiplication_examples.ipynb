{
 "cells": [
  {
   "cell_type": "markdown",
   "id": "8ed038d9",
   "metadata": {},
   "source": [
    "# Tensor Multiplication Examples\n",
    "**Detailed Explanations and Executable Code (English)**\n",
    "\n",
    "This notebook demonstrates six common tensor multiplication operations with clear definitions and runnable NumPy examples:\n",
    "1. Element-wise Multiplication  \n",
    "2. Dot Product (Vector)  \n",
    "3. Matrix Multiplication  \n",
    "4. Outer Product  \n",
    "5. Kronecker Product  \n",
    "6. Tensor Contraction (generalization of matrix multiplication)\n"
   ]
  },
  {
   "cell_type": "markdown",
   "id": "aa42012e",
   "metadata": {},
   "source": [
    "## 1️⃣ Element-wise Multiplication\n",
    "Each element in one tensor is multiplied by the corresponding element in the other tensor.  \n",
    "**Requirement:** Both tensors must have the same shape.\n",
    "\n",
    "**Example**  \n",
    "A = [[1, 2], [3, 4]]  \n",
    "B = [[5, 6], [7, 8]]  \n",
    "Result = [[5, 12], [21, 32]]\n"
   ]
  },
  {
   "cell_type": "code",
   "execution_count": null,
   "id": "e644f3a4",
   "metadata": {},
   "outputs": [],
   "source": [
    "import numpy as np\n",
    "\n",
    "A = np.array([[1,2],[3,4]])\n",
    "B = np.array([[5,6],[7,8]])\n",
    "C = A * B\n",
    "print(\"A =\\n\", A)\n",
    "print(\"B =\\n\", B)\n",
    "print(\"A * B =\\n\", C)"
   ]
  },
  {
   "cell_type": "markdown",
   "id": "5008f99d",
   "metadata": {},
   "source": [
    "## 2️⃣ Dot Product (Vector)\n",
    "The dot product is defined between two vectors.  \n",
    "It returns a scalar equal to the sum of element-wise products.\n",
    "\n",
    "**Example**  \n",
    "a = [2, 3, 4], b = [5, 6, 7] → 56\n"
   ]
  },
  {
   "cell_type": "code",
   "execution_count": null,
   "id": "775dc4df",
   "metadata": {},
   "outputs": [],
   "source": [
    "a = np.array([2,3,4])\n",
    "b = np.array([5,6,7])\n",
    "dot_result = np.dot(a,b)\n",
    "print(\"a =\", a)\n",
    "print(\"b =\", b)\n",
    "print(\"Dot Product =\", dot_result)"
   ]
  },
  {
   "cell_type": "markdown",
   "id": "bdd86fd7",
   "metadata": {},
   "source": [
    "## 3️⃣ Matrix Multiplication\n",
    "Standard matrix multiplication (`A @ B`).  \n",
    "The number of columns in **A** must equal the number of rows in **B**.\n",
    "\n",
    "**Example**  \n",
    "A = [[1,2,3],[4,5,6]]  \n",
    "B = [[1,2],[3,4],[5,6]]  \n",
    "Result = [[22,28],[49,64]]\n"
   ]
  },
  {
   "cell_type": "code",
   "execution_count": null,
   "id": "34e416a5",
   "metadata": {},
   "outputs": [],
   "source": [
    "A = np.array([[1,2,3],[4,5,6]])\n",
    "B = np.array([[1,2],[3,4],[5,6]])\n",
    "mat_result = A @ B\n",
    "print(\"A =\\n\", A)\n",
    "print(\"B =\\n\", B)\n",
    "print(\"A @ B =\\n\", mat_result)"
   ]
  },
  {
   "cell_type": "markdown",
   "id": "4b1a3073",
   "metadata": {},
   "source": [
    "## 4️⃣ Outer Product\n",
    "Each element of vector **A** multiplies **all** elements of vector **B**.  \n",
    "The result is a matrix.\n",
    "\n",
    "**Example**  \n",
    "a = [1, 2], b = [3, 4, 5] → [[3, 4, 5], [6, 8, 10]]\n"
   ]
  },
  {
   "cell_type": "code",
   "execution_count": null,
   "id": "6f41289a",
   "metadata": {},
   "outputs": [],
   "source": [
    "a = np.array([1,2])\n",
    "b = np.array([3,4,5])\n",
    "outer_result = np.outer(a,b)\n",
    "print(\"a =\", a)\n",
    "print(\"b =\", b)\n",
    "print(\"Outer Product =\\n\", outer_result)"
   ]
  },
  {
   "cell_type": "markdown",
   "id": "fe7654ee",
   "metadata": {},
   "source": [
    "## 5️⃣ Kronecker Product\n",
    "Each element of matrix **A** multiplies the **entire** matrix **B**.  \n",
    "The result is a larger matrix.\n",
    "\n",
    "**Example**  \n",
    "A = [[1,2],[3,4]]  \n",
    "B = [[0,5],[6,7]]  \n",
    "Result =  \n",
    "[[0, 5, 0, 10],  \n",
    " [6, 7, 12, 14],  \n",
    " [0, 15, 0, 20],  \n",
    " [18, 21, 24, 28]]\n"
   ]
  },
  {
   "cell_type": "code",
   "execution_count": null,
   "id": "cb5c8021",
   "metadata": {},
   "outputs": [],
   "source": [
    "A = np.array([[1,2],[3,4]])\n",
    "B = np.array([[0,5],[6,7]])\n",
    "kron_result = np.kron(A,B)\n",
    "print(\"A =\\n\", A)\n",
    "print(\"B =\\n\", B)\n",
    "print(\"Kronecker Product =\\n\", kron_result)"
   ]
  },
  {
   "cell_type": "markdown",
   "id": "5500f7f3",
   "metadata": {},
   "source": [
    "## 6️⃣ Tensor Contraction\n",
    "A generalization of matrix multiplication for higher-dimensional tensors.  \n",
    "Some axes are summed (contracted) over.\n",
    "\n",
    "**Example**  \n",
    "A.shape = (2, 3, 4), B.shape = (4, 2) → Result shape = (2, 3, 2)  \n",
    "We contract (sum) over the shared axis with size 4.\n"
   ]
  },
  {
   "cell_type": "code",
   "execution_count": null,
   "id": "8b79bdc7",
   "metadata": {},
   "outputs": [],
   "source": [
    "A = np.random.rand(2,3,4)\n",
    "B = np.random.rand(4,2)\n",
    "C = np.tensordot(A, B, axes=([2],[0]))\n",
    "print(\"Shape of A:\", A.shape)\n",
    "print(\"Shape of B:\", B.shape)\n",
    "print(\"Shape of Result (Tensor Contraction):\", C.shape)"
   ]
  },
  {
   "cell_type": "markdown",
   "id": "3e6ac868",
   "metadata": {},
   "source": [
    "## 🔹 Summary of Tensor Multiplication Types\n",
    "1. **Element-wise** → Multiplies corresponding elements (same shape tensors)  \n",
    "2. **Dot Product** → Sum of element-wise products between two vectors (scalar result)  \n",
    "3. **Matrix Product** → Row–column multiplication producing a new matrix  \n",
    "4. **Outer Product** → Every element of A multiplies every element of B  \n",
    "5. **Kronecker Product** → Expanded version of the outer product for matrices  \n",
    "6. **Tensor Contraction** → Generalization of matrix multiplication; sums over shared axes\n"
   ]
  }
 ],
 "metadata": {},
 "nbformat": 4,
 "nbformat_minor": 5
}
